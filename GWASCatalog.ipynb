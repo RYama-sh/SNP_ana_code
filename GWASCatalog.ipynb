{
 "cells": [
  {
   "cell_type": "code",
   "execution_count": 4,
   "id": "ab6e07b6",
   "metadata": {},
   "outputs": [
    {
     "name": "stdout",
     "output_type": "stream",
     "text": [
      "ファイルの作成が完了しました\n"
     ]
    }
   ],
   "source": [
    "import os\n",
    "path = './../SNP_data/gwas_catalog_v1.0-associations_e111_r2024-05-05.tsv'\n",
    "with open(path) as f:\n",
    "    disease = []\n",
    "    disease_dict = {}\n",
    "    \n",
    "    for line in f:\n",
    "        #タブで区切ってリストに格納         \n",
    "        sp_line = line.split(\"\\t\")\n",
    "        chr_id = sp_line[11].rstrip()\n",
    "        chr_pos = sp_line[12].rstrip()\n",
    "        snp = sp_line[21].rstrip()\n",
    "        \n",
    "        if chr_id != \"\" and chr_pos != \"\" and \" x \" not in chr_id and \" x \" not in chr_pos and chr_id != \"CHR_ID\" and chr_pos != \"CHR_POS\":\n",
    "            key = sp_line[7].rstrip()\n",
    "            disease.append(key)\n",
    "            \n",
    "            vh = disease_dict.get(key, [])\n",
    "            if not vh:\n",
    "                vh = []\n",
    "                disease_dict[key] = vh\n",
    "                \n",
    "            if \";\" in chr_id:\n",
    "                sp_chr_id = chr_id.split(\";\")\n",
    "                sp_chr_pos = chr_pos.split(\";\")\n",
    "                sp_snp = snp.split(\";\")\n",
    "                \n",
    "                for i in range(len(sp_chr_id)):\n",
    "                    vh_str = f\"chr{sp_chr_id[i].rstrip()}\n",
    "                    \\t{int(sp_chr_pos[i].rstrip())-1}\\t{sp_chr_pos[i].rstrip()}\n",
    "                    \\t{sp_snp[i].rstrip()}\"\n",
    "                    if vh_str not in vh:\n",
    "                        vh.append(vh_str)\n",
    "            else:\n",
    "                if \", \" in snp:\n",
    "                    sp_snp = snp.split(\", \")\n",
    "                    for s in sp_snp:\n",
    "                        vh_str = f\"chr{chr_id}\\t{int(chr_pos)-1}\\t{chr_pos}\\t{s}\"\n",
    "                        if vh_str not in vh:\n",
    "                            vh.append(vh_str)\n",
    "                else:\n",
    "                    snp = snp.replace(\"HLA_DRB1_0901; rs9272105;HLA_DRB1_0405\", \"rs9272105\")\n",
    "                    vh_str = f\"chr{chr_id}\\t{int(chr_pos)-1}\\t{chr_pos}\\t{snp}\"\n",
    "                    if vh_str not in vh:\n",
    "                        vh.append(vh_str)\n",
    "f.close()\n",
    "\n",
    "disease = list(set(disease))\n",
    "disease.sort()\n",
    "\n",
    "outfile = \"./../SNP_data/GWAS_disease.list\"\n",
    "with open(outfile,\"w\") as f2:\n",
    "    f2.write(\"index\\tDISEASE/TRAIT\\n\")\n",
    "    for i, d in enumerate(disease, start=1):\n",
    "        f2.write(f\"{i}\\t{d}\\n\")\n",
    "        \n",
    "        outfile2 = f\"./../SNP_data/Disease_i_hg38/Disease_{i}_hg38.bed\"\n",
    "        with open(outfile2,\"w\") as f3:\n",
    "            vh = disease_dict[d]\n",
    "            for s in vh:\n",
    "                f3.write(f\"{s}\\n\")\n",
    "#                 os.system(f\"liftOver Disease_{i}_hg38.bed hg38ToHg19.over.chain GWAS_disease/Disease_{i}_hg19.bed GWAS_disease/Disease_{i}_unlifted.bed\")\n",
    "#                 os.system(f\"rm Disease_{i}_unlifted.bed\")\n",
    "print('ファイルの作成が完了しました')\n",
    "f2.close()\n",
    "f3.close()"
   ]
  },
  {
   "cell_type": "code",
   "execution_count": null,
   "id": "e7e53525",
   "metadata": {},
   "outputs": [],
   "source": []
  }
 ],
 "metadata": {
  "kernelspec": {
   "display_name": "Python 3 (ipykernel)",
   "language": "python",
   "name": "python3"
  },
  "language_info": {
   "codemirror_mode": {
    "name": "ipython",
    "version": 3
   },
   "file_extension": ".py",
   "mimetype": "text/x-python",
   "name": "python",
   "nbconvert_exporter": "python",
   "pygments_lexer": "ipython3",
   "version": "3.11.5"
  }
 },
 "nbformat": 4,
 "nbformat_minor": 5
}
