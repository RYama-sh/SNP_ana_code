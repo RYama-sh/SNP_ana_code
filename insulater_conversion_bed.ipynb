{
 "cells": [
  {
   "cell_type": "code",
   "execution_count": 1,
   "id": "0417b08e",
   "metadata": {},
   "outputs": [
    {
     "name": "stdout",
     "output_type": "stream",
     "text": [
      "BEDファイルの作成が完了しました。\n"
     ]
    }
   ],
   "source": [
    "import pandas as pd\n",
    "\n",
    "file_path = './../insulaters/allcomp.txt'\n",
    "data = pd.read_csv(file_path, sep='\\t')\n",
    "\n",
    "# 各Species毎ににデータを分割して処理\n",
    "species_groups = data.groupby('Species')\n",
    "\n",
    "for species, group in species_groups:\n",
    "    if species in ['Human', 'Mouse']:\n",
    "    # 遺伝子位置の抽出\n",
    "        bed_data = group[['Chromosome Location']].copy()\n",
    "        bed_data[['chrom', 'start', 'end']] = bed_data['Chromosome Location'].str.split(':|-', expand=True)\n",
    "        bed_data = bed_data[['chrom', 'start', 'end']]\n",
    "        \n",
    "        output_file = f'./../insulaters/{species}_CTCF.bed'\n",
    "        bed_data.to_csv(output_file, sep='\\t', header=False, index=False)\n",
    "\n",
    "print(\"BEDファイルの作成が完了しました。\")\n"
   ]
  },
  {
   "cell_type": "code",
   "execution_count": 3,
   "id": "3fcf9477",
   "metadata": {},
   "outputs": [
    {
     "name": "stdout",
     "output_type": "stream",
     "text": [
      "BEDファイルの作成が完了しました。\n"
     ]
    }
   ],
   "source": [
    "import pandas as pd\n",
    "\n",
    "file_path = './../insulaters/allexp.txt'\n",
    "data = pd.read_csv(file_path, sep='\\t')\n",
    "\n",
    "# 各Species毎ににデータを分割して処理\n",
    "species_groups = data.groupby('Species')\n",
    "\n",
    "for species, group in species_groups:\n",
    "    if species in ['Human', 'Mouse']:\n",
    "    # 遺伝子位置の抽出\n",
    "        bed_data = group[['chromosome Location']].copy()\n",
    "        bed_data[['chrom', 'start', 'end']] = bed_data['chromosome Location'].str.split(':|-', expand=True)\n",
    "        bed_data = bed_data[['chrom', 'start', 'end']]\n",
    "        \n",
    "        output_file = f'./../insulaters/{species}_CTCF.bed'\n",
    "        bed_data.to_csv(output_file, sep='\\t', header=False, index=False)\n",
    "\n",
    "print(\"BEDファイルの作成が完了しました。\")\n"
   ]
  },
  {
   "cell_type": "code",
   "execution_count": 1,
   "id": "dd624a81",
   "metadata": {},
   "outputs": [
    {
     "ename": "NameError",
     "evalue": "name 'CTCFBSDB_all_exp_sites_Sept12_2012' is not defined",
     "output_type": "error",
     "traceback": [
      "\u001b[0;31m---------------------------------------------------------------------------\u001b[0m",
      "\u001b[0;31mNameError\u001b[0m                                 Traceback (most recent call last)",
      "Cell \u001b[0;32mIn[1], line 1\u001b[0m\n\u001b[0;32m----> 1\u001b[0m CTCFBSDB_all_exp_sites_Sept12_2012\u001b[38;5;241m.\u001b[39mtxt\n",
      "\u001b[0;31mNameError\u001b[0m: name 'CTCFBSDB_all_exp_sites_Sept12_2012' is not defined"
     ]
    }
   ],
   "source": [
    "CTCFBSDB_all_exp_sites_Sept12_2012.txt"
   ]
  },
  {
   "cell_type": "code",
   "execution_count": 4,
   "id": "2bdd2cd3",
   "metadata": {},
   "outputs": [
    {
     "name": "stderr",
     "output_type": "stream",
     "text": [
      "/var/folders/z2/398f93fj2zn0p2pvgdlhcwwc0000gn/T/ipykernel_94161/3621477350.py:4: DtypeWarning: Columns (3,8,9,12,13) have mixed types. Specify dtype option on import or set low_memory=False.\n",
      "  data = pd.read_csv(file_path, sep='\\t')\n"
     ]
    },
    {
     "ename": "KeyError",
     "evalue": "\"['Chrom'] not in index\"",
     "output_type": "error",
     "traceback": [
      "\u001b[0;31m---------------------------------------------------------------------------\u001b[0m",
      "\u001b[0;31mKeyError\u001b[0m                                  Traceback (most recent call last)",
      "Cell \u001b[0;32mIn[4], line 12\u001b[0m\n\u001b[1;32m      9\u001b[0m \u001b[38;5;28;01mfor\u001b[39;00m species, group \u001b[38;5;129;01min\u001b[39;00m species_groups:\n\u001b[1;32m     10\u001b[0m     \u001b[38;5;28;01mif\u001b[39;00m species \u001b[38;5;129;01min\u001b[39;00m [\u001b[38;5;124m'\u001b[39m\u001b[38;5;124mHuman\u001b[39m\u001b[38;5;124m'\u001b[39m]:\n\u001b[1;32m     11\u001b[0m     \u001b[38;5;66;03m# 遺伝子位置の抽出\u001b[39;00m\n\u001b[0;32m---> 12\u001b[0m         bed_data \u001b[38;5;241m=\u001b[39m group[[\u001b[38;5;124m'\u001b[39m\u001b[38;5;124mChrom\u001b[39m\u001b[38;5;124m'\u001b[39m, \u001b[38;5;124m'\u001b[39m\u001b[38;5;124mStart\u001b[39m\u001b[38;5;124m'\u001b[39m, \u001b[38;5;124m'\u001b[39m\u001b[38;5;124mEnd\u001b[39m\u001b[38;5;124m'\u001b[39m]]\n\u001b[1;32m     14\u001b[0m         output_file \u001b[38;5;241m=\u001b[39m \u001b[38;5;124mf\u001b[39m\u001b[38;5;124m'\u001b[39m\u001b[38;5;124m./../insulaters/\u001b[39m\u001b[38;5;132;01m{\u001b[39;00mspecies\u001b[38;5;132;01m}\u001b[39;00m\u001b[38;5;124m_CTCF.bed\u001b[39m\u001b[38;5;124m'\u001b[39m\n\u001b[1;32m     15\u001b[0m         bed_data\u001b[38;5;241m.\u001b[39mto_csv(output_file, sep\u001b[38;5;241m=\u001b[39m\u001b[38;5;124m'\u001b[39m\u001b[38;5;130;01m\\t\u001b[39;00m\u001b[38;5;124m'\u001b[39m, header\u001b[38;5;241m=\u001b[39m\u001b[38;5;28;01mFalse\u001b[39;00m, index\u001b[38;5;241m=\u001b[39m\u001b[38;5;28;01mFalse\u001b[39;00m)\n",
      "File \u001b[0;32m~/anaconda3/lib/python3.11/site-packages/pandas/core/frame.py:3767\u001b[0m, in \u001b[0;36mDataFrame.__getitem__\u001b[0;34m(self, key)\u001b[0m\n\u001b[1;32m   3765\u001b[0m     \u001b[38;5;28;01mif\u001b[39;00m is_iterator(key):\n\u001b[1;32m   3766\u001b[0m         key \u001b[38;5;241m=\u001b[39m \u001b[38;5;28mlist\u001b[39m(key)\n\u001b[0;32m-> 3767\u001b[0m     indexer \u001b[38;5;241m=\u001b[39m \u001b[38;5;28mself\u001b[39m\u001b[38;5;241m.\u001b[39mcolumns\u001b[38;5;241m.\u001b[39m_get_indexer_strict(key, \u001b[38;5;124m\"\u001b[39m\u001b[38;5;124mcolumns\u001b[39m\u001b[38;5;124m\"\u001b[39m)[\u001b[38;5;241m1\u001b[39m]\n\u001b[1;32m   3769\u001b[0m \u001b[38;5;66;03m# take() does not accept boolean indexers\u001b[39;00m\n\u001b[1;32m   3770\u001b[0m \u001b[38;5;28;01mif\u001b[39;00m \u001b[38;5;28mgetattr\u001b[39m(indexer, \u001b[38;5;124m\"\u001b[39m\u001b[38;5;124mdtype\u001b[39m\u001b[38;5;124m\"\u001b[39m, \u001b[38;5;28;01mNone\u001b[39;00m) \u001b[38;5;241m==\u001b[39m \u001b[38;5;28mbool\u001b[39m:\n",
      "File \u001b[0;32m~/anaconda3/lib/python3.11/site-packages/pandas/core/indexes/base.py:5877\u001b[0m, in \u001b[0;36mIndex._get_indexer_strict\u001b[0;34m(self, key, axis_name)\u001b[0m\n\u001b[1;32m   5874\u001b[0m \u001b[38;5;28;01melse\u001b[39;00m:\n\u001b[1;32m   5875\u001b[0m     keyarr, indexer, new_indexer \u001b[38;5;241m=\u001b[39m \u001b[38;5;28mself\u001b[39m\u001b[38;5;241m.\u001b[39m_reindex_non_unique(keyarr)\n\u001b[0;32m-> 5877\u001b[0m \u001b[38;5;28mself\u001b[39m\u001b[38;5;241m.\u001b[39m_raise_if_missing(keyarr, indexer, axis_name)\n\u001b[1;32m   5879\u001b[0m keyarr \u001b[38;5;241m=\u001b[39m \u001b[38;5;28mself\u001b[39m\u001b[38;5;241m.\u001b[39mtake(indexer)\n\u001b[1;32m   5880\u001b[0m \u001b[38;5;28;01mif\u001b[39;00m \u001b[38;5;28misinstance\u001b[39m(key, Index):\n\u001b[1;32m   5881\u001b[0m     \u001b[38;5;66;03m# GH 42790 - Preserve name from an Index\u001b[39;00m\n",
      "File \u001b[0;32m~/anaconda3/lib/python3.11/site-packages/pandas/core/indexes/base.py:5941\u001b[0m, in \u001b[0;36mIndex._raise_if_missing\u001b[0;34m(self, key, indexer, axis_name)\u001b[0m\n\u001b[1;32m   5938\u001b[0m     \u001b[38;5;28;01mraise\u001b[39;00m \u001b[38;5;167;01mKeyError\u001b[39;00m(\u001b[38;5;124mf\u001b[39m\u001b[38;5;124m\"\u001b[39m\u001b[38;5;124mNone of [\u001b[39m\u001b[38;5;132;01m{\u001b[39;00mkey\u001b[38;5;132;01m}\u001b[39;00m\u001b[38;5;124m] are in the [\u001b[39m\u001b[38;5;132;01m{\u001b[39;00maxis_name\u001b[38;5;132;01m}\u001b[39;00m\u001b[38;5;124m]\u001b[39m\u001b[38;5;124m\"\u001b[39m)\n\u001b[1;32m   5940\u001b[0m not_found \u001b[38;5;241m=\u001b[39m \u001b[38;5;28mlist\u001b[39m(ensure_index(key)[missing_mask\u001b[38;5;241m.\u001b[39mnonzero()[\u001b[38;5;241m0\u001b[39m]]\u001b[38;5;241m.\u001b[39munique())\n\u001b[0;32m-> 5941\u001b[0m \u001b[38;5;28;01mraise\u001b[39;00m \u001b[38;5;167;01mKeyError\u001b[39;00m(\u001b[38;5;124mf\u001b[39m\u001b[38;5;124m\"\u001b[39m\u001b[38;5;132;01m{\u001b[39;00mnot_found\u001b[38;5;132;01m}\u001b[39;00m\u001b[38;5;124m not in index\u001b[39m\u001b[38;5;124m\"\u001b[39m)\n",
      "\u001b[0;31mKeyError\u001b[0m: \"['Chrom'] not in index\""
     ]
    }
   ],
   "source": [
    "import pandas as pd\n",
    "\n",
    "file_path = './../insulaters/CTCFBSDB_all_exp_sites_Sept12_2012.txt'\n",
    "data = pd.read_csv(file_path, sep='\\t')\n",
    "\n",
    "# 各Species毎ににデータを分割して処理\n",
    "species_groups = data.groupby('Species')\n",
    "\n",
    "for species, group in species_groups:\n",
    "    if species in ['Human']:\n",
    "    # 遺伝子位置の抽出\n",
    "        bed_data = group[['Chrom', 'Start', 'End']]\n",
    "        \n",
    "        output_file = f'./../insulaters/{species}_CTCF.bed'\n",
    "        bed_data.to_csv(output_file, sep='\\t', header=False, index=False)\n",
    "\n",
    "print(\"BEDファイルの作成が完了しました。\")\n"
   ]
  },
  {
   "cell_type": "code",
   "execution_count": null,
   "id": "bf79e718",
   "metadata": {},
   "outputs": [],
   "source": []
  }
 ],
 "metadata": {
  "kernelspec": {
   "display_name": "Python 3 (ipykernel)",
   "language": "python",
   "name": "python3"
  },
  "language_info": {
   "codemirror_mode": {
    "name": "ipython",
    "version": 3
   },
   "file_extension": ".py",
   "mimetype": "text/x-python",
   "name": "python",
   "nbconvert_exporter": "python",
   "pygments_lexer": "ipython3",
   "version": "3.11.5"
  }
 },
 "nbformat": 4,
 "nbformat_minor": 5
}
